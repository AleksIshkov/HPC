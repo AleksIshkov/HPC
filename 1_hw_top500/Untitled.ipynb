{
 "cells": [
  {
   "cell_type": "code",
   "execution_count": 1,
   "id": "c423072a",
   "metadata": {},
   "outputs": [],
   "source": [
    "from bs4 import BeautifulSoup as bs\n",
    "import pandas as pd\n",
    "import datetime\n",
    "import locale\n",
    "from locale import atof\n",
    "\n",
    "import numpy as np\n",
    "from sklearn.linear_model import LinearRegression\n",
    "import matplotlib.pyplot as plt"
   ]
  },
  {
   "cell_type": "code",
   "execution_count": 2,
   "id": "27979abe",
   "metadata": {},
   "outputs": [
    {
     "name": "stdout",
     "output_type": "stream",
     "text": [
      "TOP500_202206.xlsx Table.html         Untitled.ipynb\r\n"
     ]
    }
   ],
   "source": [
    "!ls"
   ]
  },
  {
   "cell_type": "markdown",
   "id": "d7fca423",
   "metadata": {},
   "source": [
    "# Performance prediction"
   ]
  },
  {
   "cell_type": "code",
   "execution_count": 3,
   "id": "c454446f",
   "metadata": {
    "scrolled": true
   },
   "outputs": [],
   "source": [
    "with open('Table.html', 'r') as fio:\n",
    "    html = fio.read()"
   ]
  },
  {
   "cell_type": "code",
   "execution_count": 4,
   "id": "d33bee15",
   "metadata": {},
   "outputs": [
    {
     "data": {
      "text/html": [
       "<div>\n",
       "<style scoped>\n",
       "    .dataframe tbody tr th:only-of-type {\n",
       "        vertical-align: middle;\n",
       "    }\n",
       "\n",
       "    .dataframe tbody tr th {\n",
       "        vertical-align: top;\n",
       "    }\n",
       "\n",
       "    .dataframe thead th {\n",
       "        text-align: right;\n",
       "    }\n",
       "</style>\n",
       "<table border=\"1\" class=\"dataframe\">\n",
       "  <thead>\n",
       "    <tr style=\"text-align: right;\">\n",
       "      <th></th>\n",
       "      <th>date</th>\n",
       "      <th>sum</th>\n",
       "      <th>top1</th>\n",
       "      <th>top500</th>\n",
       "      <th>ordinal</th>\n",
       "    </tr>\n",
       "  </thead>\n",
       "  <tbody>\n",
       "    <tr>\n",
       "      <th>0</th>\n",
       "      <td>1993-06-01</td>\n",
       "      <td>1128.57</td>\n",
       "      <td>59.7</td>\n",
       "      <td>0.42</td>\n",
       "      <td>727715</td>\n",
       "    </tr>\n",
       "    <tr>\n",
       "      <th>1</th>\n",
       "      <td>1993-11-01</td>\n",
       "      <td>1493.35</td>\n",
       "      <td>124.0</td>\n",
       "      <td>0.47</td>\n",
       "      <td>727868</td>\n",
       "    </tr>\n",
       "    <tr>\n",
       "      <th>2</th>\n",
       "      <td>1994-06-01</td>\n",
       "      <td>2317.01</td>\n",
       "      <td>143.4</td>\n",
       "      <td>0.84</td>\n",
       "      <td>728080</td>\n",
       "    </tr>\n",
       "    <tr>\n",
       "      <th>3</th>\n",
       "      <td>1994-11-01</td>\n",
       "      <td>2732.24</td>\n",
       "      <td>170.0</td>\n",
       "      <td>1.16</td>\n",
       "      <td>728233</td>\n",
       "    </tr>\n",
       "    <tr>\n",
       "      <th>4</th>\n",
       "      <td>1995-06-01</td>\n",
       "      <td>3927.00</td>\n",
       "      <td>170.0</td>\n",
       "      <td>1.96</td>\n",
       "      <td>728445</td>\n",
       "    </tr>\n",
       "  </tbody>\n",
       "</table>\n",
       "</div>"
      ],
      "text/plain": [
       "        date      sum   top1  top500  ordinal\n",
       "0 1993-06-01  1128.57   59.7    0.42   727715\n",
       "1 1993-11-01  1493.35  124.0    0.47   727868\n",
       "2 1994-06-01  2317.01  143.4    0.84   728080\n",
       "3 1994-11-01  2732.24  170.0    1.16   728233\n",
       "4 1995-06-01  3927.00  170.0    1.96   728445"
      ]
     },
     "execution_count": 4,
     "metadata": {},
     "output_type": "execute_result"
    }
   ],
   "source": [
    "locale.setlocale(locale.LC_NUMERIC, '')\n",
    "\n",
    "dt_format = '%b %d, %Y'\n",
    "\n",
    "data = []\n",
    "\n",
    "table_body = bs(html).find('tbody')\n",
    "\n",
    "rows = table_body.find_all('tr')\n",
    "for row in rows:\n",
    "    cols = row.find_all('td')\n",
    "    cols = [ele.text.strip() for ele in cols]\n",
    "    data.append([ele for ele in cols if ele]) # Get rid of empty values\n",
    "    \n",
    "df = pd.DataFrame(data, columns=['date', 'sum', 'top1', 'top500'])\n",
    "\n",
    "df['date'] = pd.to_datetime(df['date'].apply(lambda x: datetime.datetime.strptime(x, dt_format).date()))\n",
    "for col in ['sum', 'top1', 'top500']:\n",
    "    df[col] = df[col].apply(atof)\n",
    "\n",
    "df['ordinal'] = df['date'].apply(lambda x: x.toordinal())\n",
    "\n",
    "df.head()"
   ]
  },
  {
   "cell_type": "code",
   "execution_count": 5,
   "id": "81c86363",
   "metadata": {},
   "outputs": [],
   "source": [
    "y = np.log(df['top1'].__array__().reshape(-1, 1))\n",
    "X = df['ordinal'].__array__().reshape(-1, 1)\n",
    "\n",
    "reg = LinearRegression().fit(X,y)"
   ]
  },
  {
   "cell_type": "code",
   "execution_count": 6,
   "id": "2f6d6184",
   "metadata": {},
   "outputs": [
    {
     "data": {
      "text/plain": [
       "[<matplotlib.lines.Line2D at 0x7f8b3a4a3400>]"
      ]
     },
     "execution_count": 6,
     "metadata": {},
     "output_type": "execute_result"
    },
    {
     "data": {
      "image/png": "[encoded data removed]",
      "text/plain": [
       "<Figure size 432x288 with 1 Axes>"
      ]
     },
     "metadata": {
      "needs_background": "light"
     },
     "output_type": "display_data"
    }
   ],
   "source": [
    "plt.scatter(X, y)\n",
    "plt.plot(X, X * reg.coef_ + reg.intercept_, color='g')"
   ]
  },
  {
   "cell_type": "code",
   "execution_count": 7,
   "id": "c4584ead",
   "metadata": {},
   "outputs": [
    {
     "name": "stdout",
     "output_type": "stream",
     "text": [
      "Top1 at 2025-01-01 in RGflop/s = 8885298802.352827\n"
     ]
    }
   ],
   "source": [
    "ord_pred = datetime.date(2025, 1, 1).toordinal()\n",
    "y_pred = np.array([ord_pred]).reshape(-1, 1)\n",
    "print(f'Top1 at 2025-01-01 in RGflop/s = {np.exp(reg.predict(y_pred))[0][0]}')"
   ]
  },
  {
   "cell_type": "markdown",
   "id": "aef3084c",
   "metadata": {},
   "source": [
    "# Share of electricity consumed"
   ]
  },
  {
   "cell_type": "code",
   "execution_count": 24,
   "id": "6848b275",
   "metadata": {},
   "outputs": [
    {
     "name": "stdout",
     "output_type": "stream",
     "text": [
      "Share: 0.0375 %\n"
     ]
    }
   ],
   "source": [
    "total_produced = 908598.4 * 1e3\n",
    "#https://www.iea.org/data-and-statistics/data-tools/monthly-electricity-statistics\n",
    "\n",
    "df_top500 = pd.read_excel('TOP500_202206.xlsx')\n",
    "total_consumption = df_top500['Power (kW)'].sum()\n",
    "\n",
    "print('Share:', \"%.4f\" % (total_consumption / total_produced * 100), '%')"
   ]
  },
  {
   "cell_type": "code",
   "execution_count": 12,
   "id": "a4142a9b",
   "metadata": {},
   "outputs": [],
   "source": []
  },
  {
   "cell_type": "code",
   "execution_count": null,
   "id": "1ace298d",
   "metadata": {},
   "outputs": [],
   "source": []
  }
 ],
 "metadata": {
  "kernelspec": {
   "display_name": "Python 3",
   "language": "python",
   "name": "python3"
  },
  "language_info": {
   "codemirror_mode": {
    "name": "ipython",
    "version": 3
   },
   "file_extension": ".py",
   "mimetype": "text/x-python",
   "name": "python",
   "nbconvert_exporter": "python",
   "pygments_lexer": "ipython3",
   "version": "3.8.8"
  }
 },
 "nbformat": 4,
 "nbformat_minor": 5
}
